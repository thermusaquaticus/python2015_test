{
 "metadata": {
  "name": "",
  "signature": "sha256:71bdc9d74325a4e14483637ebe670290da43b1cb9ffcb46995491b69826cb914"
 },
 "nbformat": 3,
 "nbformat_minor": 0,
 "worksheets": [
  {
   "cells": [
    {
     "cell_type": "code",
     "collapsed": false,
     "input": [
      "import sys\n",
      "import os\n",
      "import os.path\n",
      "sys.path.append(os.path.join(os.getcwd(), 'lib'))\n",
      "from test import python_test"
     ],
     "language": "python",
     "metadata": {},
     "outputs": [],
     "prompt_number": 96
    },
    {
     "cell_type": "markdown",
     "metadata": {},
     "source": [
      "Please register by putting your name and email address in the `register` line below:"
     ]
    },
    {
     "cell_type": "code",
     "collapsed": false,
     "input": [
      "python_test.register('Sheldon Steyn', 's206006080@live.nmmu.ac.za')"
     ],
     "language": "python",
     "metadata": {},
     "outputs": [
      {
       "metadata": {},
       "output_type": "pyout",
       "prompt_number": 97,
       "text": [
        "'Thank you Sheldon Steyn'"
       ]
      }
     ],
     "prompt_number": 97
    },
    {
     "cell_type": "markdown",
     "metadata": {},
     "source": [
      "**(1)** Write a function `multiply(x, y)` that returns the results of multiplying `x` and `y`. I.e. \n",
      "\n",
      "        result = multiply(5, 10)\n",
      "        print result\n",
      " \n",
      " would print `50`.\n",
      " \n",
      " **Marks:** 1"
     ]
    },
    {
     "cell_type": "code",
     "collapsed": false,
     "input": [
      "def multiply(x, y):\n",
      "    return x*y\n",
      "    "
     ],
     "language": "python",
     "metadata": {},
     "outputs": [],
     "prompt_number": 98
    },
    {
     "cell_type": "code",
     "collapsed": false,
     "input": [
      "result = multiply(5, 10)\n",
      "print result\n"
     ],
     "language": "python",
     "metadata": {},
     "outputs": [
      {
       "output_type": "stream",
       "stream": "stdout",
       "text": [
        "50\n"
       ]
      }
     ],
     "prompt_number": 99
    },
    {
     "cell_type": "code",
     "collapsed": false,
     "input": [
      "python_test.run_test(1, multiply)"
     ],
     "language": "python",
     "metadata": {},
     "outputs": [
      {
       "output_type": "stream",
       "stream": "stdout",
       "text": [
        "Correct\n"
       ]
      }
     ],
     "prompt_number": 100
    },
    {
     "cell_type": "markdown",
     "metadata": {},
     "source": [
      "**(2)** To calculate the product of a list of numbers you multiply them together, so e.g. the product of 1, 2, 3, and 4 is 1 \u00d7 2 \u00d7 3 \u00d7 4, i.e. 24. Write a python function `product_of(thelist)` that returns the product of all the numbers in `thelist`. E.g.\n",
      "\n",
      "        mylist = [1,2,3,4]\n",
      "        result = product_of(mylist)\n",
      "        print result\n",
      "        \n",
      "would print `24`.\n",
      "\n",
      "**Marks:** 3"
     ]
    },
    {
     "cell_type": "code",
     "collapsed": false,
     "input": [
      "def product_of(mylist):\n",
      "    a=1\n",
      "    for number in mylist:\n",
      "        a*=number\n",
      "    return a"
     ],
     "language": "python",
     "metadata": {},
     "outputs": [],
     "prompt_number": 101
    },
    {
     "cell_type": "code",
     "collapsed": false,
     "input": [
      "mylist=[1,2,3,4]\n",
      "result=product_of(mylist)\n",
      "print result"
     ],
     "language": "python",
     "metadata": {},
     "outputs": [
      {
       "output_type": "stream",
       "stream": "stdout",
       "text": [
        "24\n"
       ]
      }
     ],
     "prompt_number": 102
    },
    {
     "cell_type": "code",
     "collapsed": false,
     "input": [
      "python_test.run_test(2, product_of)"
     ],
     "language": "python",
     "metadata": {},
     "outputs": [
      {
       "output_type": "stream",
       "stream": "stdout",
       "text": [
        "Correct\n"
       ]
      }
     ],
     "prompt_number": 103
    },
    {
     "cell_type": "markdown",
     "metadata": {},
     "source": [
      "**(3)** The molecular weight (in g/mol) of a strand of (synthesised) single-stranded DNA can be computed by adding together the weights of the individual bases and then subtracting 61.96. The individual bases have these weights:\n",
      "\n",
      "        Adenine  313.2\n",
      "        Thymine  304.2\n",
      "        Cytosine 289.2\n",
      "        Guanine  329.2\n",
      "\n",
      "So for example the molecular weight of the string `GATACCA` is 2089.44. Write a function `mol_weight(dna_str)` that computes the molecular weight of strand of DNA. E.g. \n",
      "\n",
      "        weight = mol_weight('GATACCA')\n",
      "        print weight\n",
      "\n",
      "would print 2089.44.\n",
      "\n",
      "**Marks:** 5"
     ]
    },
    {
     "cell_type": "code",
     "collapsed": false,
     "input": [
      "def mol_weight(dna_str):\n",
      "    bases={'A':313.2,'T':304.2,'C':289.2,'G':329.2}\n",
      "    b=0\n",
      "    for base in dna_str:\n",
      "        b+=bases[base]\n",
      "    return b - 61.96"
     ],
     "language": "python",
     "metadata": {},
     "outputs": [],
     "prompt_number": 104
    },
    {
     "cell_type": "code",
     "collapsed": false,
     "input": [
      "weight = mol_weight('GATACCA')\n",
      "print weight"
     ],
     "language": "python",
     "metadata": {},
     "outputs": [
      {
       "output_type": "stream",
       "stream": "stdout",
       "text": [
        "2089.44\n"
       ]
      }
     ],
     "prompt_number": 105
    },
    {
     "cell_type": "code",
     "collapsed": false,
     "input": [
      "python_test.run_test(3, mol_weight)"
     ],
     "language": "python",
     "metadata": {},
     "outputs": [
      {
       "output_type": "stream",
       "stream": "stdout",
       "text": [
        "Correct\n"
       ]
      }
     ],
     "prompt_number": 106
    },
    {
     "cell_type": "markdown",
     "metadata": {},
     "source": [
      "**(4)** Write a function `longest_line(filename)` that returns the longest line in the file named by `filename`. E.g. if a file `myfile.txt` contained the following lines:\n",
      "\n",
      "        *****************\n",
      "        ***********\n",
      "        ***\n",
      "        ************************\n",
      "\n",
      "then\n",
      "\n",
      "        line = longest_line('myfile.txt')\n",
      "        print line\n",
      "\n",
      "would print\n",
      "\n",
      "        ************************\n",
      "\n",
      "You can test your function using the file `sample.txt`.\n",
      "        \n",
      "**Marks:** 5     "
     ]
    },
    {
     "cell_type": "code",
     "collapsed": false,
     "input": [],
     "language": "python",
     "metadata": {},
     "outputs": [],
     "prompt_number": 106
    },
    {
     "cell_type": "code",
     "collapsed": false,
     "input": [
      "def longest_line(filename):\n",
      "    myfile=open(filename)\n",
      "    longest_length=0\n",
      "    line_name=0\n",
      "    for line in myfile:\n",
      "        length=len(line)\n",
      "        if length>longest_length:\n",
      "            line_name=line\n",
      "            longest_length=length\n",
      "    return line_name"
     ],
     "language": "python",
     "metadata": {},
     "outputs": [],
     "prompt_number": 107
    },
    {
     "cell_type": "code",
     "collapsed": false,
     "input": [
      "longest_line('./sample.txt')"
     ],
     "language": "python",
     "metadata": {},
     "outputs": [
      {
       "metadata": {},
       "output_type": "pyout",
       "prompt_number": 108,
       "text": [
        "'GGCTGATTGAGCTAACCGCAAAACCGCCTTAGGCCTGATACGTTGCGTGGTGGCGTGTC\\n'"
       ]
      }
     ],
     "prompt_number": 108
    },
    {
     "cell_type": "code",
     "collapsed": false,
     "input": [
      "python_test.run_test(4, longest_line)"
     ],
     "language": "python",
     "metadata": {},
     "outputs": [
      {
       "output_type": "stream",
       "stream": "stdout",
       "text": [
        "Correct\n"
       ]
      }
     ],
     "prompt_number": 109
    },
    {
     "cell_type": "markdown",
     "metadata": {},
     "source": [
      "**(5)** Consider a file that contains protein names, with one name per line. Here is a sample of the file:\n",
      "\n",
      "        COL1A1\n",
      "        MED12\n",
      "        IREB2\n",
      "        GDF9\n",
      "        RXRG\n",
      "        CBFB\n",
      "        IREB2\n",
      "        TUBB\n",
      "\n",
      "\n",
      "Write a function `deduplicate(filename)` that reads in a file like this (one is provided as `names.txt`) and returns a unique list of names. If `names.txt` contained only the above example, then:\n",
      "\n",
      "        unique_names = deduplicate('names.txt')\n",
      "        print unique_names\n",
      "\n",
      "should print:\n",
      "\n",
      "        ['CBFB', 'COL1A1', 'GDF9', 'IREB2', 'MED12', 'RXRG', 'TUBB']\n",
      "        \n",
      "(The order of the names isn't important)\n",
      "\n",
      "**Marks:** 6"
     ]
    },
    {
     "cell_type": "code",
     "collapsed": false,
     "input": [
      "def deduplicate(input_file):\n",
      "    name_list=[]\n",
      "    myfile=open(input_file)\n",
      "    for line in myfile:\n",
      "        if line.rstrip() not in name_list:\n",
      "            name_list.append(line.rstrip())\n",
      "    return name_list"
     ],
     "language": "python",
     "metadata": {},
     "outputs": [],
     "prompt_number": 110
    },
    {
     "cell_type": "code",
     "collapsed": false,
     "input": [
      "unique_names = deduplicate('./names.txt')\n",
      "print unique_names"
     ],
     "language": "python",
     "metadata": {},
     "outputs": [
      {
       "output_type": "stream",
       "stream": "stdout",
       "text": [
        "['CBFB', 'CDK2', 'GAB1', 'LCK', 'MED12', 'SLBP', 'PRKCZ', 'RXRG', 'TUBB', 'FRS3', 'SHC1', 'COL1A1', 'IREB2', 'GDF9', 'COL5A1', 'SP3', 'AGT']\n"
       ]
      }
     ],
     "prompt_number": 111
    },
    {
     "cell_type": "code",
     "collapsed": false,
     "input": [
      "python_test.run_test(5, deduplicate)"
     ],
     "language": "python",
     "metadata": {},
     "outputs": [
      {
       "output_type": "stream",
       "stream": "stdout",
       "text": [
        "Incorrect\n"
       ]
      }
     ],
     "prompt_number": 112
    },
    {
     "cell_type": "markdown",
     "metadata": {},
     "source": [
      "**(6)** The following code is a script that is intended to count how many times a protein name occurs in a file (you can use `names.txt` as the sample file). The script (with bugs) can be found in `bin/count_name.py` and is executable. The code has errors. Correct them:\n",
      "\n",
      "````\n",
      "#!/usr/bin/eenv python\n",
      "\n",
      "import sys\n",
      "\n",
      "def count_name(filename, protein_name):\n",
      "    input_file = open(sys.argv[1])\n",
      "    count = 0\n",
      "    for line in input_file:\n",
      "        if line.rstrip() == protein_name:\n",
      "            count += 1\n",
      "    return count\n",
      "\n",
      "if len(sys.argv) != 3:\n",
      "    sys.exit(\"Usage: count_name.py <protein names file> <protein name>\")\n",
      "\n",
      "filename = sys.argv[0]\n",
      "protein_name = sys.argv[1]\n",
      "name_count = count_name(filename, protein_name)\n",
      "print protein_name, name_count\n",
      "````\n",
      "\n",
      "**Marks:** 4\n"
     ]
    },
    {
     "cell_type": "code",
     "collapsed": false,
     "input": [
      "#!/usr/bin/env python\n",
      "\n",
      "import sys\n",
      "\n",
      "def count_name(filename, protein_name):\n",
      "    input_file = open(sys.argv[1])\n",
      "    count = 0\n",
      "    for line in input_file:\n",
      "        if line.rstrip() == protein_name:\n",
      "            count += 1\n",
      "    return count\n",
      "\n",
      "if len(sys.argv) != 3:\n",
      "    sys.exit(\"Usage: count_name.py <protein names file> <protein name>\")\n",
      "\n",
      "filename = sys.argv[1]\n",
      "protein_name = sys.argv[2]\n",
      "name_count = count_name(filename, protein_name)\n",
      "print protein_name, name_count"
     ],
     "language": "python",
     "metadata": {},
     "outputs": [
      {
       "ename": "SystemExit",
       "evalue": "Usage: count_name.py <protein names file> <protein name>",
       "output_type": "pyerr",
       "traceback": [
        "An exception has occurred, use %tb to see the full traceback.\n",
        "\u001b[1;31mSystemExit\u001b[0m\u001b[1;31m:\u001b[0m Usage: count_name.py <protein names file> <protein name>\n"
       ]
      },
      {
       "output_type": "stream",
       "stream": "stderr",
       "text": [
        "To exit: use 'exit', 'quit', or Ctrl-D.\n"
       ]
      }
     ],
     "prompt_number": 113
    },
    {
     "cell_type": "code",
     "collapsed": false,
     "input": [
      "python_test.run_test(6, None)"
     ],
     "language": "python",
     "metadata": {},
     "outputs": [
      {
       "output_type": "stream",
       "stream": "stdout",
       "text": [
        "Correct\n"
       ]
      }
     ],
     "prompt_number": 114
    },
    {
     "cell_type": "code",
     "collapsed": false,
     "input": [
      "print \"Total marks available:\", python_test.max_marks()"
     ],
     "language": "python",
     "metadata": {},
     "outputs": [
      {
       "output_type": "stream",
       "stream": "stdout",
       "text": [
        "Total marks available: 25\n"
       ]
      }
     ],
     "prompt_number": 115
    },
    {
     "cell_type": "code",
     "collapsed": false,
     "input": [],
     "language": "python",
     "metadata": {},
     "outputs": [],
     "prompt_number": 115
    },
    {
     "cell_type": "code",
     "collapsed": false,
     "input": [],
     "language": "python",
     "metadata": {},
     "outputs": []
    }
   ],
   "metadata": {}
  }
 ]
}